{
  "nbformat": 4,
  "nbformat_minor": 0,
  "metadata": {
    "colab": {
      "name": "resume_parser.ipynb",
      "provenance": [],
      "collapsed_sections": []
    },
    "kernelspec": {
      "name": "python3",
      "display_name": "Python 3"
    },
    "language_info": {
      "name": "python"
    },
    "accelerator": "GPU"
  },
  "cells": [
    {
      "cell_type": "code",
      "execution_count": null,
      "metadata": {
        "id": "CsXeQAGPnsFF"
      },
      "outputs": [],
      "source": [
        "import pickle\n",
        "import random\n"
      ]
    },
    {
      "cell_type": "code",
      "source": [
        "data = pickle.load(open('train_data.pkl','rb'))\n",
        "data[100]\n",
        "\n"
      ],
      "metadata": {
        "colab": {
          "base_uri": "https://localhost:8080/"
        },
        "id": "ph_CHy66nyXi",
        "outputId": "1ef5a76a-5d4c-4d21-9018-679a5292cd1a"
      },
      "execution_count": null,
      "outputs": [
        {
          "output_type": "execute_result",
          "data": {
            "text/plain": [
              "('Puneet Bhandari SAP SD lead - Microsoft IT  Pune, Maharashtra - Email me on Indeed: indeed.com/r/Puneet-Bhandari/c9002fa44d6760bd  Willing to relocate: Anywhere  WORK EXPERIENCE  SAP SD lead  Microsoft IT -  August 2010 to Present  Team Size: 8 Duration: Seven months  Scope: * Enhancement of Mexico invoicing process as per the current regulations * Requirement gathering from third party and client on new process * Responsible for implementing the changes in system  Area of Exposure: * Understand the AS-IS process and develop to- Be design document to meet the business and Government requirement * Requirement gathering for all SD process for client * Developed solution blueprint and Process Design Documents for OTC 3-way and 1-way invoice processes * Interacting with third party to gather requirements from their end * Creating functional specification and Gap analysis document for different country implementation with client * Design test scripts for functional unit testing (FUT), Integration system testing (IST) and User Acceptance Test (UAT)  Phase: Support Phase: Implementation \\\\ Enhancement Project: JCI Role: SAP SD lead Team Size: 15 Duration: Twelve months  Scope: * Communication with client leadership on various issues and efficiency improvement * Ticket handling for OTC track as L2 support lead * Responsible for change request across OTC and all business areas  Area of Exposure: * End to end order to cash cycles issues * Interface related issues with exposure to IDOCs * Change request handling and process improvement  https://www.indeed.com/r/Puneet-Bhandari/c9002fa44d6760bd?isid=rex-download&ikw=download-top&co=IN   * SPOC for client from offshore for communication, reporting and continuous improvement activities * Design test scripts for functional unit testing (FUT), Integration system testing (IST) and User Acceptance Test (UAT) for all changes for process and system improvements Achievements: * Spot Awards for exceptional contribution to project work * Award and appreciation from client at Global level for successful transition of new geographies to support global template  Phase: Implementation Project: Adient Role: SAP SD lead Team Size: 5 Duration: Five months  Scope: * Lead Optical archiving of all future, live and archived invoices for audit purpose * Harmonize invoice archiving process across all plants and SAP instances * Requirement and data gathering from all plants on legal aspects of invoice form structures and data of last 10 years  Area of Exposure: * Developed solution blueprint and Process Design Documents for OTC 3-way and 1-way invoice processes * Requirement gathering from all the plants legal department on the aspect of form structure * Data gathering of all changes across globe for data (customer, vendor, organizational) relative to the billing process in system * Creating functional specification and Gap analysis document for different country implementation with client * Design test scripts for unit testing (UT), Integration system testing (IST) and User Acceptance Test (UAT)  Phase: Implementation Project: JCI Role: Cutover Manager Team Size: 15 Duration: Nine months  Scope: * Legal entity Separation of asset share and shared sale plants from the core JCI group * Co-coordinating with multiple vendors on behalf of client for master data migration and IT activities Area of Exposure: * Defining scope of activities for the shared sale plants migration to new legal entity * Co-ordination with OTC, PTP, PTD and RTR streams for successful implementation of the objectives * Analyzing issues related to intercompany transactions occurred for asset share plants * Gathering client requirement on basis of legacy system and current need * Creating functional specification and Gap analysis documents * Reporting to IT head of the organization on the progress of the planned activities * Report analysis and finding functional solutions for the issues    * Hyper care support for multi SAP instance layout  Achievements: * Appreciations from the client on smooth and successful execution of the cutover involving multiple stakeholders  Phase: Implementation and Roll-out Project: Atlas CopCo Role: Master Data Lead and SD team member Team Size: 11 Duration: Thirty-three months  Scope: * Sales order management * Equipment creation in Order to cash cycle * Lead for master data migration * Conducting workshops along with client IT team for business user  Area of Exposure: * Conducting blue print workshops with client for requirement gathering in 6 countries * Developed solution blueprint and Process Design Documents for OTC * Roll out of the template solution to UK-NORDICS * Defining data flow for the sales order-billing document in system * Order to cash cycle activity management for data creation in ECC * Creating functional specification and Gap analysis document for different country implementation with client * Implementation and Configuration of different processes as per the client requirement in the area of SAP SD and CRM sales-ECC integration * Reporting - Reconciliation, pre validation, post validation * Involved as lead in cutover, go-live, hyper care phases of project for five countries in Europe  Achievements: * Awarded for Creating landscape for support phase along with top management team of the project * At onsite as equipment lead and awarded as valuable member by the client  Phase: Implementation Project: Agri Business Client Role: SD Team member Team Size: 25 Duration: Ten months  Scope: * Implementing end to end SAP SD scenario for MNC client * Creation of functional specification documents for various processes Area of Exposure: * Defining enterprise structure, shipping conditions, pricing procedure, etc. * Assignment of structure as per business need * Creation of BPP and functional specification documents * Master data Creation * Worked on DUET (SharePoint and SAP initiative)    * Handling team and driving it to achieve deliverables  Achievements: * Published various BOK (reusable artifacts) in Infosys Repository * Successfully completed on job internship on Sustainability study of Infosys Clients - Telstra, Cummins and Vodafone.  Phase: Implementation Project: COE Role: SD Team member Team Size: 6 Duration: Three months  Scope: * Configuring sales order management for SAP SD module for client * Testing preconfigured solution for internal team  Area of Exposure: * Implementation of sales order process with respect to specific SD (sales and Distribution) processes * Testing for SD module processes involving various pricing methodologies * Handling team and driving it to achieve deliverables Achievements: * Cleared domain certification in Retail category * Successfully completed Harvard Manage Mentor Certification in Customer Focus and Innovation Implementation by Harvard Business Publishing  Phase: Support Client: Microsoft IT Team Size: 15 Duration: Sixteen months  Scope: * Supporting complete Order to cash cycle for Microsoft Business * Analyzing, resolving and implementing issues or tickets  Area of Exposure: * Pricing unification management and analysis (stand-alone system for pricing) * Handling of Master Data (Customer data, customer information data, condition records, partner profile maintenance) * Resolving errors related to configuration issues, extension of sales organization and material, order, delivery and invoice errors. * Working on LSMW for mass data update in the system * Working on monthly rotational activities like IDOCs failure, EDI error notification, short dumps.  Achievements: * Resolved maximum numbers of issues among the peer group members * Created maximum number of knowledge base articles for the project  Title: Training Duration: Two months Scope: Understanding of ES Methodologies, Project management and SAP SD    Area of Exposure: * Understanding fundamentals of Management with respect to IT sector * Learning SAP SD (Sales and distribution domain) * RFP creation  Achievements: * Successfully cleared P100 and P200 certifications * Successfully completed RFP and POST * Successfully cleared all exams with score more than 4 out of 5  EDUCATION  MBA in Marketing  IIT Roorkee -  Roorkee, Uttarakhand  2008 to 2010  Bachelor of Engineering in Electronics and Communication  Shri Vaishnav Institute of Technology and Science, RGPV University -  Indore, Madhya Pradesh  2004 to 2008  CBSE  St. Paul H.S. School -  Indore, Madhya Pradesh  2002 to 2003  Higher Secondary Certificate  Shanti Nagar High School, Maharashtra board -  Mumbai, Maharashtra  1999 to 2000  SKILLS  Sap Sd (7 years)',\n",
              " {'entities': [(8576, 8593, 'Skills'),\n",
              "   (8383, 8387, 'Graduation Year'),\n",
              "   (8281, 8348, 'College Name'),\n",
              "   (8223, 8280, 'Degree'),\n",
              "   (8209, 8213, 'Graduation Year'),\n",
              "   (8172, 8184, 'College Name'),\n",
              "   (8154, 8170, 'Degree'),\n",
              "   (6979, 6988, 'Companies worked at'),\n",
              "   (6873, 6882, 'Companies worked at'),\n",
              "   (2167, 2178, 'Designation'),\n",
              "   (1576, 1580, 'Location'),\n",
              "   (1563, 1608, 'Email Address'),\n",
              "   (1130, 1141, 'Designation'),\n",
              "   (192, 201, 'Companies worked at'),\n",
              "   (179, 190, 'Designation'),\n",
              "   (84, 129, 'Email Address'),\n",
              "   (44, 48, 'Location'),\n",
              "   (30, 39, 'Companies worked at'),\n",
              "   (16, 27, 'Designation'),\n",
              "   (0, 15, 'Name'),\n",
              "   (0, 4, 'Location')]})"
            ]
          },
          "metadata": {},
          "execution_count": 39
        }
      ]
    },
    {
      "cell_type": "code",
      "source": [
        "import spacy\n",
        "from spacy.tokens import DocBin\n"
      ],
      "metadata": {
        "id": "iBYwyh0zoG0A"
      },
      "execution_count": null,
      "outputs": []
    },
    {
      "cell_type": "code",
      "source": [
        "from spacy.lang.en import English\n",
        "nlp = English()"
      ],
      "metadata": {
        "id": "c_p3L_iOpgii"
      },
      "execution_count": null,
      "outputs": []
    },
    {
      "cell_type": "code",
      "source": [
        "def model(data):\n",
        "  if 'ner' not in nlp.pipe_names:\n",
        "    ner = nlp.create_pipe('ner')\n",
        "    nlp.add_pipe(ner, first=False)\n",
        "  for _, ann in data:\n",
        "    for ent in ann['entities']:\n",
        "      ner.add_label(ent[2])\n",
        "  other_pipes = [pipe for pipe in nlp.pipe_names if pipe!='ner']\n",
        "  with nlp.disable_pipes(*other_pipes):\n",
        "    optimizer = nlp.begin_training()\n",
        "    for i in range(50):\n",
        "      print('started iterating'+ str(i))\n",
        "      random.shuffle(data)\n",
        "      losses = {}\n",
        "      index = 0\n",
        "      for text, annotations in data:\n",
        "        try:\n",
        "          nlp.update([text],[annotations],drop=0.2,sgd=optimizer, losses=losses)\n",
        "        except Exception as e:\n",
        "          pass\n",
        "      print(losses)"
      ],
      "metadata": {
        "id": "Tk0rN16Bpmdi"
      },
      "execution_count": null,
      "outputs": []
    },
    {
      "cell_type": "code",
      "source": [
        "model(data)"
      ],
      "metadata": {
        "colab": {
          "base_uri": "https://localhost:8080/"
        },
        "id": "xV1wDOq9qGJl",
        "outputId": "8d1c431b-e34c-404a-b9be-8502386cc74d"
      },
      "execution_count": null,
      "outputs": [
        {
          "output_type": "stream",
          "name": "stdout",
          "text": [
            "started iterating0\n",
            "{'ner': 13276.629016195897}\n",
            "started iterating1\n",
            "{'ner': 9119.715836778789}\n",
            "started iterating2\n",
            "{'ner': 8817.219320230892}\n",
            "started iterating3\n",
            "{'ner': 6323.762834561087}\n",
            "started iterating4\n",
            "{'ner': 5772.995182893415}\n",
            "started iterating5\n",
            "{'ner': 5005.187082893889}\n",
            "started iterating6\n",
            "{'ner': 9417.926289863273}\n",
            "started iterating7\n",
            "{'ner': 4308.855496362399}\n",
            "started iterating8\n",
            "{'ner': 4153.610143545585}\n",
            "started iterating9\n",
            "{'ner': 5050.228859435034}\n",
            "started iterating10\n",
            "{'ner': 3726.52613419999}\n",
            "started iterating11\n",
            "{'ner': 3921.889171128299}\n",
            "started iterating12\n",
            "{'ner': 4219.976000731294}\n",
            "started iterating13\n",
            "{'ner': 3559.6891092288324}\n",
            "started iterating14\n",
            "{'ner': 3713.494909256091}\n",
            "started iterating15\n",
            "{'ner': 3781.6577684521158}\n",
            "started iterating16\n",
            "{'ner': 2940.6519606849142}\n",
            "started iterating17\n",
            "{'ner': 3568.1755151952993}\n",
            "started iterating18\n",
            "{'ner': 3534.194198700731}\n",
            "started iterating19\n",
            "{'ner': 2861.6474524966616}\n",
            "started iterating20\n",
            "{'ner': 3317.068893836631}\n",
            "started iterating21\n",
            "{'ner': 3087.4812402275993}\n",
            "started iterating22\n",
            "{'ner': 3436.384741966139}\n",
            "started iterating23\n",
            "{'ner': 2737.4641638608346}\n",
            "started iterating24\n",
            "{'ner': 2921.088167938955}\n",
            "started iterating25\n",
            "{'ner': 2489.680415641723}\n",
            "started iterating26\n",
            "{'ner': 2927.536223581335}\n",
            "started iterating27\n",
            "{'ner': 2695.756292383256}\n",
            "started iterating28\n",
            "{'ner': 2845.715894751244}\n",
            "started iterating29\n",
            "{'ner': 2305.3057398537803}\n",
            "started iterating30\n",
            "{'ner': 1980.5743015690741}\n",
            "started iterating31\n",
            "{'ner': 2752.3139156558536}\n",
            "started iterating32\n",
            "{'ner': 2089.265819796689}\n",
            "started iterating33\n",
            "{'ner': 2440.232298607872}\n",
            "started iterating34\n",
            "{'ner': 1947.8627489816747}\n",
            "started iterating35\n",
            "{'ner': 2682.4325583908303}\n",
            "started iterating36\n",
            "{'ner': 1968.5909415125516}\n",
            "started iterating37\n",
            "{'ner': 2146.845146121863}\n",
            "started iterating38\n",
            "{'ner': 2115.7618819339255}\n",
            "started iterating39\n",
            "{'ner': 1621.49495895486}\n",
            "started iterating40\n",
            "{'ner': 1992.6676421229245}\n",
            "started iterating41\n",
            "{'ner': 1590.5314871770645}\n",
            "started iterating42\n",
            "{'ner': 2075.841254255626}\n",
            "started iterating43\n",
            "{'ner': 1661.7462604098218}\n",
            "started iterating44\n",
            "{'ner': 2163.2670901506435}\n",
            "started iterating45\n",
            "{'ner': 2079.2151917486112}\n",
            "started iterating46\n",
            "{'ner': 1794.9947404337693}\n",
            "started iterating47\n",
            "{'ner': 1858.8305044643093}\n",
            "started iterating48\n",
            "{'ner': 1917.3181714244117}\n",
            "started iterating49\n",
            "{'ner': 1829.2571381956366}\n"
          ]
        }
      ]
    },
    {
      "cell_type": "markdown",
      "source": [
        "***Saving this Model** for future Predictions"
      ],
      "metadata": {
        "id": "f6Bsm6RosgGM"
      }
    },
    {
      "cell_type": "code",
      "source": [
        "nlp.to_disk('resume_parser')"
      ],
      "metadata": {
        "id": "Xwis6SY3sm89"
      },
      "execution_count": null,
      "outputs": []
    },
    {
      "cell_type": "code",
      "source": [
        "!pip install PyMuPDF\n",
        "import sys\n",
        "import fitz\n",
        "\n",
        "resume = 'Smith Resume.pdf'\n",
        "text = ' '\n",
        "doc = fitz.open(resume)\n",
        "for page in doc:\n",
        "  text = text + str(page.getText())\n",
        "print(text)\n"
      ],
      "metadata": {
        "colab": {
          "base_uri": "https://localhost:8080/"
        },
        "id": "eeL5_ecauqax",
        "outputId": "e030e940-f5c2-443e-aa72-a41bfe50bd63"
      },
      "execution_count": null,
      "outputs": [
        {
          "output_type": "stream",
          "name": "stdout",
          "text": [
            "Collecting PyMuPDF\n",
            "  Downloading PyMuPDF-1.19.3-cp37-cp37m-manylinux_2_17_x86_64.manylinux2014_x86_64.whl (8.7 MB)\n",
            "\u001b[K     |████████████████████████████████| 8.7 MB 10.2 MB/s \n",
            "\u001b[?25hInstalling collected packages: PyMuPDF\n",
            "Successfully installed PyMuPDF-1.19.3\n",
            " Michael Smith \n",
            "BI / Big Data/ Azure \n",
            "Manchester, UK- Email me on Indeed: indeed.com/r/falicent/140749dace5dc26f \n",
            " \n",
            "10+ years of Experience in Designing, Development, Administration, Analysis, \n",
            "Management \n",
            "inthe \n",
            "Business \n",
            "Intelligence \n",
            "Data \n",
            "warehousing, \n",
            "Client \n",
            "Server \n",
            "Technologies, Web-based Applications, cloud solutions and Databases. \n",
            "Data warehouse: Data analysis, star/ snow flake schema data modeling and design \n",
            "specific todata warehousing and business intelligence environment. \n",
            "Database: Experience in database designing, scalability, back-up and recovery, \n",
            "writing andoptimizing SQL code and Stored Procedures, creating functions, views, \n",
            "triggers and indexes.  \n",
            "Cloud platform: Worked on Microsoft Azure cloud services like Document DB, SQL \n",
            "Azure, StreamAnalytics, Event hub, Power BI, Web Job, Web App, Power BI, Azure \n",
            "data lake analytics(U-SQL). \n",
            "Big Data: Worked Azure data lake store/analytics for big data processing and Azure \n",
            "data factoryto schedule U-SQL jobs. Designed and developed end to end big data \n",
            "solution for data insights.  \n",
            " \n",
            "Willing to relocate: Anywhere \n",
            "WORK EXPERIENCESoftware Engineer \n",
            "Microsoft - Manchester, UK. \n",
            "December 2015 to Present \n",
            "1. Microsoft Rewards Live dashboards: \n",
            "Description: - Microsoft rewards is loyalty program that rewards Users for \n",
            "browsing and shopping online. Microsoft Rewards members can earn points when \n",
            "searching with Bing, browsing with Microsoft Edge and making purchases at the \n",
            "Xbox Store, the Windows Store and the Microsoft Store. Plus, user can pick up \n",
            "bonus points for taking daily quizzes and tours on the Microsoft rewards website. \n",
            "Rewards live dashboards gives a live picture of usage world-wide and by markets \n",
            "like US, Canada, Australia, new user registration count, top/bottom performing \n",
            "rewards offers, orders stats and weekly trends of user activities, orders and new \n",
            "user registrations. the PBI tiles gets refreshed in different frequencies starting \n",
            "from 5 seconds to 30 minutes. \n",
            "Technology/Tools used \n",
            "Event hub, stream analytics and Power BI. \n",
            "Responsibilities \n",
            "Created stream analytics jobs to process event hub data \n",
            "Created Power BI live dashboard to show live usage traffic, weekly trends, cards, \n",
            "charts to showtop/bottom 10 offers and usage metrics. \n",
            "2. Microsoft Rewards Data Insights: \n",
            "Description: - Microsoft rewards is loyalty program that rewards Users for \n",
            "browsing and shopping online. Microsoft Rewards members can earn points when \n",
            "searching with Bing, browsing with Microsoft Edge and making purchases at the \n",
            "Xbox Store, the Windows Store and the Microsoft Store. Plus, user can pick up \n",
            "bonus points for taking daily quizzes and tours on the Microsoft rewards website. \n",
            "Rewards data insights is data analytics and reporting platform, processes 20 \n",
            "million users daily activities and redemption across different markets like US, \n",
            "Canada, Australia. \n",
            "Technology/Tools used \n",
            "Cosmos (Microsoft big-data platform), c#, X-flow job monitoring, Power BI. \n",
            "Responsibilities \n",
            "Created big data scripts in cosmos \n",
            "C# data extractors, processors and reducers for data transformation \n",
            "Power BI dashboards \n",
            "3. End to end tracking Tool: \n",
            "Description: - This is real-time Tracking tool to track different business \n",
            "transactions like order, order response, functional acknowledgement, invoice \n",
            "flowing inside ICOE. It gives flexibility to customers to track their transactions \n",
            "and appropriate error information in-case of any failure. Based on resource based \n",
            "access control the tool gives flexibility to end user to perform different actions \n",
            "like view transactions, search based on different filter criteria and view and \n",
            "download actual message payload. End to end tracking tool stitches all the \n",
            "business transaction like order to cash flow and connects different hops inside \n",
            "ICOE like gateway, routing server, Processing server. It also connects different \n",
            "systems like ICOE, partner end point and SAP. \n",
            "Technology/Tools used \n",
            "Azure Document db, Azure web job and Web APP, RBAC, Angular JS. \n",
            "Responsibilities \n",
            "Document dB stored procedures. \n",
            "Web job to process event hub data and populate Document db• Web App API. \n",
            "Stream analytics job to transform data \n",
            "Power BI reports \n",
            "4. Biztrack Tracking Tool: \n",
            "Description: - This is real-time Tracking tool to track different business \n",
            "transactions like order, order response, functional acknowledgement, invoice \n",
            "flowing inside ICOE. It gives flexibility to customers to track their transactions \n",
            "and appropriate error information in-case of any failure. Based on resource based \n",
            "access control the tool gives flexibility to end user to perform different actions \n",
            "like view transactions, search based on different filter criteria and view and \n",
            "download actual message payload. \n",
            "Technology/Tools used \n",
            "SQL server 2014, SSIS, .net API, Angular JS. \n",
            "Responsibilities \n",
            "ETL solution to transform business transactions data stored in Biztalk tables. \n",
            "SQL azure tables, stored procedures, User defined functions. \n",
            "Performance tuning. \n",
            "Web API enhancements. \n",
            " \n",
            "EDUCATION \n",
            "The University of Manchester - UK \n",
            "2007 \n",
            " \n",
            "SKILLS \n",
            "problem solving (Less than 1 year), project lifecycle (Less than 1 year), project \n",
            "manager (Less than 1 year), technical assistance. (Less than 1 year) \n",
            "ADDITIONAL INFORMATION \n",
            "Professional Skills \n",
            "Excellent analytical, problem solving, communication, knowledge transfer and \n",
            "interpersonalskills with ability to interact with individuals at all the levels \n",
            "Quick learner and maintains cordial relationship with project manager and team \n",
            "members andgood performer both in team and independent job environments \n",
            "Positive attitude towards superiors &amp; peers \n",
            "Supervised junior developers throughout project lifecycle and provided technical \n",
            "assistance. \n",
            "\n"
          ]
        },
        {
          "output_type": "stream",
          "name": "stderr",
          "text": [
            "Deprecation: 'getText' removed from class 'Page' after v1.19 - use 'get_text'.\n"
          ]
        }
      ]
    },
    {
      "cell_type": "code",
      "source": [
        "x1 = 'Govardhana K Senior Software Engineer  Bengaluru, Karnataka, Karnataka - Email me on Indeed: indeed.com/r/Govardhana-K/ b2de315d95905b68  Total IT experience 5 Years 6 Months Cloud Lending Solutions INC 4 Month • Salesforce Developer Oracle 5 Years 2 Month • Core Java Developer Languages Core Java, Go Lang Oracle PL-SQL programming, Sales Force Developer with APEX.  Designations & Promotions  Willing to relocate: Anywhere  WORK EXPERIENCE  Senior Software Engineer  Cloud Lending Solutions -  Bangalore, Karnataka -  January 2018 to Present  Present  Senior Consultant  Oracle -  Bangalore, Karnataka -  November 2016 to December 2017  Staff Consultant  Oracle -  Bangalore, Karnataka -  January 2014 to October 2016  Associate Consultant  Oracle -  Bangalore, Karnataka -  November 2012 to December 2013  EDUCATION  B.E in Computer Science Engineering  Adithya Institute of Technology -  Tamil Nadu  September 2008 to June 2012  https://www.indeed.com/r/Govardhana-K/b2de315d95905b68?isid=rex-download&ikw=download-top&co=IN https://www.indeed.com/r/Govardhana-K/b2de315d95905b68?isid=rex-download&ikw=download-top&co=IN   SKILLS  APEX. (Less than 1 year), Data Structures (3 years), FLEXCUBE (5 years), Oracle (5 years), Algorithms (3 years)  LINKS  https://www.linkedin.com/in/govardhana-k-61024944/  ADDITIONAL INFORMATION  Technical Proficiency:  Languages: Core Java, Go Lang, Data Structures & Algorithms, Oracle PL-SQL programming, Sales Force with APEX. Tools: RADTool, Jdeveloper, NetBeans, Eclipse, SQL developer, PL/SQL Developer, WinSCP, Putty Web Technologies: JavaScript, XML, HTML, Webservice  Operating Systems: Linux, Windows Version control system SVN & Git-Hub Databases: Oracle Middleware: Web logic, OC4J Product FLEXCUBE: Oracle FLEXCUBE Versions 10.x, 11.x and 12.x  https://www.linkedin.com/in/govardhana-k-61024944'"
      ],
      "metadata": {
        "id": "QWEFyBfKvWBp"
      },
      "execution_count": null,
      "outputs": []
    },
    {
      "cell_type": "code",
      "source": [
        "d = dict()\n",
        "li = list()\n",
        "lii = list()\n",
        "res = nlp(x1)\n",
        "for i in res.ents:\n",
        "  #d.append([i.label_.upper()]) = d[i.text]\n",
        "  print(f'{i.label_.upper():{30}}- {i.text}')\n",
        "  li.append(i.label_.upper())\n",
        "  #d.add({i.label_.upper()})\n",
        "  lii.append(i.text)"
      ],
      "metadata": {
        "colab": {
          "base_uri": "https://localhost:8080/"
        },
        "id": "tCPPNCLrvoaL",
        "outputId": "3b51e3bd-fe62-4139-c04f-0cb7de4e5066"
      },
      "execution_count": null,
      "outputs": [
        {
          "output_type": "stream",
          "name": "stdout",
          "text": [
            "NAME                          - Govardhana K\n",
            "DESIGNATION                   - Senior Software Engineer\n",
            "LOCATION                      - Bengaluru\n",
            "EMAIL ADDRESS                 - indeed.com/r/Govardhana-K/ b2de315d95905b68\n",
            "COMPANIES WORKED AT           - Oracle\n",
            "DESIGNATION                   - Senior Software Engineer\n",
            "DESIGNATION                   - Senior Consultant\n",
            "COMPANIES WORKED AT           - Oracle\n",
            "DESIGNATION                   - Staff Consultant\n",
            "COMPANIES WORKED AT           - Oracle\n",
            "DESIGNATION                   - Associate Consultant\n",
            "COMPANIES WORKED AT           - Oracle\n",
            "DEGREE                        - B.E in Computer Science Engineering\n",
            "COLLEGE NAME                  - Adithya Institute of Technology\n",
            "GRADUATION YEAR               - 2012\n",
            "SKILLS                        - APEX. (Less than 1 year), Data Structures (3 years), FLEXCUBE (5 years), Oracle (5 years), Algorithms (3 years)\n",
            "SKILLS                        - Languages: Core Java, Go Lang, Data Structures & Algorithms, Oracle PL-SQL programming, Sales Force with APEX. Tools: RADTool, Jdeveloper, NetBeans, Eclipse, SQL developer, PL/SQL Developer, WinSCP, Putty Web Technologies: JavaScript, XML, HTML, Webservice  Operating Systems: Linux, Windows Version control system SVN & Git-Hub Databases: Oracle Middleware: Web logic, OC4J Product FLEXCUBE: Oracle FLEXCUBE Versions 10.x, 11.x and 12.x\n"
          ]
        }
      ]
    },
    {
      "cell_type": "code",
      "source": [
        "li"
      ],
      "metadata": {
        "colab": {
          "base_uri": "https://localhost:8080/"
        },
        "id": "Y1yKuXbm5TJw",
        "outputId": "4f4c13bc-6600-4b48-97d5-83bba19798fa"
      },
      "execution_count": null,
      "outputs": [
        {
          "output_type": "execute_result",
          "data": {
            "text/plain": [
              "['NAME',\n",
              " 'DESIGNATION',\n",
              " 'LOCATION',\n",
              " 'EMAIL ADDRESS',\n",
              " 'COMPANIES WORKED AT',\n",
              " 'DESIGNATION',\n",
              " 'DESIGNATION',\n",
              " 'COMPANIES WORKED AT',\n",
              " 'DESIGNATION',\n",
              " 'COMPANIES WORKED AT',\n",
              " 'DESIGNATION',\n",
              " 'COMPANIES WORKED AT',\n",
              " 'DEGREE',\n",
              " 'COLLEGE NAME',\n",
              " 'GRADUATION YEAR',\n",
              " 'SKILLS',\n",
              " 'SKILLS']"
            ]
          },
          "metadata": {},
          "execution_count": 95
        }
      ]
    },
    {
      "cell_type": "code",
      "source": [
        "lii\n",
        "len(lii)"
      ],
      "metadata": {
        "colab": {
          "base_uri": "https://localhost:8080/"
        },
        "id": "-vish9xp6KaD",
        "outputId": "e9cdc446-26ff-4890-b44c-603fecd13948"
      },
      "execution_count": null,
      "outputs": [
        {
          "output_type": "execute_result",
          "data": {
            "text/plain": [
              "17"
            ]
          },
          "metadata": {},
          "execution_count": 96
        }
      ]
    },
    {
      "cell_type": "code",
      "source": [
        "nlp.to_disk('model')"
      ],
      "metadata": {
        "id": "8lLYEB0m3I46"
      },
      "execution_count": null,
      "outputs": []
    },
    {
      "cell_type": "code",
      "source": [
        "res = nlp(x)\n",
        "for i in res.ents:\n",
        "  print(f'{i.label_.upper():{40}}- {i.text}')"
      ],
      "metadata": {
        "colab": {
          "base_uri": "https://localhost:8080/"
        },
        "id": "Y8oIawUXwitp",
        "outputId": "c7171c4b-ad18-44e9-8897-373df5ce5809"
      },
      "execution_count": null,
      "outputs": [
        {
          "output_type": "stream",
          "name": "stdout",
          "text": [
            "LOCATION                                - Delhi\n",
            "COMPANIES WORKED AT                     - Microsoft\n",
            "DESIGNATION                             - Software Engineer\n",
            "COMPANIES WORKED AT                     - Microsoft\n",
            "COMPANIES WORKED AT                     - Microsoft\n",
            "COMPANIES WORKED AT                     - Microsoft\n",
            "COMPANIES WORKED AT                     - Microsoft\n",
            "COMPANIES WORKED AT                     - Microsoft\n",
            "COMPANIES WORKED AT                     - Microsoft\n",
            "COLLEGE NAME                            - Indian Institute of Technology\n",
            "SKILLS                                  - Machine Learning, Natural Language Processing, and Big Data Handling    ADDITIONAL INFORMATION  Professional Skills\n"
          ]
        }
      ]
    },
    {
      "cell_type": "code",
      "source": [
        "x2 = 'Puneet Bhandari SAP SD lead - Microsoft IT  Pune, Maharashtra - Email me on Indeed: indeed.com/r/Puneet-Bhandari/c9002fa44d6760bd  Willing to relocate: Anywhere  WORK EXPERIENCE  SAP SD lead  Microsoft IT -  August 2010 to Present  Team Size: 8 Duration: Seven months  Scope: * Enhancement of Mexico invoicing process as per the current regulations * Requirement gathering from third party and client on new process * Responsible for implementing the changes in system  Area of Exposure: * Understand the AS-IS process and develop to- Be design document to meet the business and Government requirement * Requirement gathering for all SD process for client * Developed solution blueprint and Process Design Documents for OTC 3-way and 1-way invoice processes * Interacting with third party to gather requirements from their end * Creating functional specification and Gap analysis document for different country implementation with client * Design test scripts for functional unit testing (FUT), Integration system testing (IST) and User Acceptance Test (UAT)  Phase: Support Phase: Implementation \\\\ Enhancement Project: JCI Role: SAP SD lead Team Size: 15 Duration: Twelve months  Scope: * Communication with client leadership on various issues and efficiency improvement * Ticket handling for OTC track as L2 support lead * Responsible for change request across OTC and all business areas  Area of Exposure: * End to end order to cash cycles issues * Interface related issues with exposure to IDOCs * Change request handling and process improvement  https://www.indeed.com/r/Puneet-Bhandari/c9002fa44d6760bd?isid=rex-download&ikw=download-top&co=IN   * SPOC for client from offshore for communication, reporting and continuous improvement activities * Design test scripts for functional unit testing (FUT), Integration system testing (IST) and User Acceptance Test (UAT) for all changes for process and system improvements Achievements: * Spot Awards for exceptional contribution to project work * Award and appreciation from client at Global level for successful transition of new geographies to support global template  Phase: Implementation Project: Adient Role: SAP SD lead Team Size: 5 Duration: Five months  Scope: * Lead Optical archiving of all future, live and archived invoices for audit purpose * Harmonize invoice archiving process across all plants and SAP instances * Requirement and data gathering from all plants on legal aspects of invoice form structures and data of last 10 years  Area of Exposure: * Developed solution blueprint and Process Design Documents for OTC 3-way and 1-way invoice processes * Requirement gathering from all the plants legal department on the aspect of form structure * Data gathering of all changes across globe for data (customer, vendor, organizational) relative to the billing process in system * Creating functional specification and Gap analysis document for different country implementation with client * Design test scripts for unit testing (UT), Integration system testing (IST) and User Acceptance Test (UAT)  Phase: Implementation Project: JCI Role: Cutover Manager Team Size: 15 Duration: Nine months  Scope: * Legal entity Separation of asset share and shared sale plants from the core JCI group * Co-coordinating with multiple vendors on behalf of client for master data migration and IT activities Area of Exposure: * Defining scope of activities for the shared sale plants migration to new legal entity * Co-ordination with OTC, PTP, PTD and RTR streams for successful implementation of the objectives * Analyzing issues related to intercompany transactions occurred for asset share plants * Gathering client requirement on basis of legacy system and current need * Creating functional specification and Gap analysis documents * Reporting to IT head of the organization on the progress of the planned activities * Report analysis and finding functional solutions for the issues    * Hyper care support for multi SAP instance layout  Achievements: * Appreciations from the client on smooth and successful execution of the cutover involving multiple stakeholders  Phase: Implementation and Roll-out Project: Atlas CopCo Role: Master Data Lead and SD team member Team Size: 11 Duration: Thirty-three months  Scope: * Sales order management * Equipment creation in Order to cash cycle * Lead for master data migration * Conducting workshops along with client IT team for business user  Area of Exposure: * Conducting blue print workshops with client for requirement gathering in 6 countries * Developed solution blueprint and Process Design Documents for OTC * Roll out of the template solution to UK-NORDICS * Defining data flow for the sales order-billing document in system * Order to cash cycle activity management for data creation in ECC * Creating functional specification and Gap analysis document for different country implementation with client * Implementation and Configuration of different processes as per the client requirement in the area of SAP SD and CRM sales-ECC integration * Reporting - Reconciliation, pre validation, post validation * Involved as lead in cutover, go-live, hyper care phases of project for five countries in Europe  Achievements: * Awarded for Creating landscape for support phase along with top management team of the project * At onsite as equipment lead and awarded as valuable member by the client  Phase: Implementation Project: Agri Business Client Role: SD Team member Team Size: 25 Duration: Ten months  Scope: * Implementing end to end SAP SD scenario for MNC client * Creation of functional specification documents for various processes Area of Exposure: * Defining enterprise structure, shipping conditions, pricing procedure, etc. * Assignment of structure as per business need * Creation of BPP and functional specification documents * Master data Creation * Worked on DUET (SharePoint and SAP initiative)    * Handling team and driving it to achieve deliverables  Achievements: * Published various BOK (reusable artifacts) in Infosys Repository * Successfully completed on job internship on Sustainability study of Infosys Clients - Telstra, Cummins and Vodafone.  Phase: Implementation Project: COE Role: SD Team member Team Size: 6 Duration: Three months  Scope: * Configuring sales order management for SAP SD module for client * Testing preconfigured solution for internal team  Area of Exposure: * Implementation of sales order process with respect to specific SD (sales and Distribution) processes * Testing for SD module processes involving various pricing methodologies * Handling team and driving it to achieve deliverables Achievements: * Cleared domain certification in Retail category * Successfully completed Harvard Manage Mentor Certification in Customer Focus and Innovation Implementation by Harvard Business Publishing  Phase: Support Client: Microsoft IT Team Size: 15 Duration: Sixteen months  Scope: * Supporting complete Order to cash cycle for Microsoft Business * Analyzing, resolving and implementing issues or tickets  Area of Exposure: * Pricing unification management and analysis (stand-alone system for pricing) * Handling of Master Data (Customer data, customer information data, condition records, partner profile maintenance) * Resolving errors related to configuration issues, extension of sales organization and material, order, delivery and invoice errors. * Working on LSMW for mass data update in the system * Working on monthly rotational activities like IDOCs failure, EDI error notification, short dumps.  Achievements: * Resolved maximum numbers of issues among the peer group members * Created maximum number of knowledge base articles for the project  Title: Training Duration: Two months Scope: Understanding of ES Methodologies, Project management and SAP SD    Area of Exposure: * Understanding fundamentals of Management with respect to IT sector * Learning SAP SD (Sales and distribution domain) * RFP creation  Achievements: * Successfully cleared P100 and P200 certifications * Successfully completed RFP and POST * Successfully cleared all exams with score more than 4 out of 5  EDUCATION  MBA in Marketing  IIT Roorkee -  Roorkee, Uttarakhand  2008 to 2010  Bachelor of Engineering in Electronics and Communication  Shri Vaishnav Institute of Technology and Science, RGPV University -  Indore, Madhya Pradesh  2004 to 2008  CBSE  St. Paul H.S. School -  Indore, Madhya Pradesh  2002 to 2003  Higher Secondary Certificate  Shanti Nagar High School, Maharashtra board -  Mumbai, Maharashtra  1999 to 2000  SKILLS  Sap Sd (7 years)'"
      ],
      "metadata": {
        "id": "SGG_ClY20V84"
      },
      "execution_count": null,
      "outputs": []
    },
    {
      "cell_type": "code",
      "source": [
        "res = nlp(x2)\n",
        "for i in res.ents:\n",
        "  print(f'{i.label_.upper():{30}}- {i.text}')"
      ],
      "metadata": {
        "id": "QAOWzTQdw3Mp",
        "colab": {
          "base_uri": "https://localhost:8080/"
        },
        "outputId": "a36b9787-4d41-468b-f409-6e6b14fafacf"
      },
      "execution_count": null,
      "outputs": [
        {
          "output_type": "stream",
          "name": "stdout",
          "text": [
            "NAME                          - Puneet Bhandari\n",
            "DESIGNATION                   - SAP SD lead\n",
            "COMPANIES WORKED AT           - Microsoft\n",
            "LOCATION                      - Pune\n",
            "EMAIL ADDRESS                 - indeed.com/r/Puneet-Bhandari/c9002fa44d6760bd\n",
            "COMPANIES WORKED AT           - SAP SD lead\n",
            "COMPANIES WORKED AT           - Microsoft\n",
            "DEGREE                        - MBA in Marketing\n",
            "COLLEGE NAME                  - IIT Roorkee\n",
            "GRADUATION YEAR               - 2010\n",
            "DEGREE                        - Bachelor of Engineering in Electronics and Communication\n",
            "COLLEGE NAME                  - Shri Vaishnav Institute of Technology and Science, RGPV University\n",
            "GRADUATION YEAR               - 2003\n",
            "GRADUATION YEAR               - 1999\n",
            "GRADUATION YEAR               - 2000\n",
            "SKILLS                        - Sap Sd (7 years)\n"
          ]
        }
      ]
    },
    {
      "cell_type": "code",
      "source": [
        "dic = dict()\n",
        "for key in li: \n",
        "    for value in lii: \n",
        "        dic[key] = value \n",
        "        lii.remove(value) \n",
        "        break  \n",
        "print(dic)\n",
        "#len(dic)"
      ],
      "metadata": {
        "colab": {
          "base_uri": "https://localhost:8080/"
        },
        "id": "rQ-iVmAv58q6",
        "outputId": "bb401d59-6476-42e2-e693-50e83d9fd10d"
      },
      "execution_count": null,
      "outputs": [
        {
          "output_type": "stream",
          "name": "stdout",
          "text": [
            "{'NAME': 'Govardhana K', 'DESIGNATION': 'Associate Consultant', 'LOCATION': 'Bengaluru', 'EMAIL ADDRESS': 'indeed.com/r/Govardhana-K/ b2de315d95905b68', 'COMPANIES WORKED AT': 'Oracle', 'DEGREE': 'B.E in Computer Science Engineering', 'COLLEGE NAME': 'Adithya Institute of Technology', 'GRADUATION YEAR': '2012', 'SKILLS': 'Languages: Core Java, Go Lang, Data Structures & Algorithms, Oracle PL-SQL programming, Sales Force with APEX. Tools: RADTool, Jdeveloper, NetBeans, Eclipse, SQL developer, PL/SQL Developer, WinSCP, Putty Web Technologies: JavaScript, XML, HTML, Webservice  Operating Systems: Linux, Windows Version control system SVN & Git-Hub Databases: Oracle Middleware: Web logic, OC4J Product FLEXCUBE: Oracle FLEXCUBE Versions 10.x, 11.x and 12.x'}\n"
          ]
        }
      ]
    },
    {
      "cell_type": "code",
      "source": [
        "from os import write\n",
        "import json\n",
        "json_object = json.dumps(dic, indent = 18 ) \n",
        "print(json_object)"
      ],
      "metadata": {
        "colab": {
          "base_uri": "https://localhost:8080/"
        },
        "id": "THqOCvMh61TV",
        "outputId": "b0d311af-addc-4375-841e-85866ef30bd7"
      },
      "execution_count": null,
      "outputs": [
        {
          "output_type": "stream",
          "name": "stdout",
          "text": [
            "{\n",
            "                  \"NAME\": \"Govardhana K\",\n",
            "                  \"DESIGNATION\": \"Associate Consultant\",\n",
            "                  \"LOCATION\": \"Bengaluru\",\n",
            "                  \"EMAIL ADDRESS\": \"indeed.com/r/Govardhana-K/ b2de315d95905b68\",\n",
            "                  \"COMPANIES WORKED AT\": \"Oracle\",\n",
            "                  \"DEGREE\": \"B.E in Computer Science Engineering\",\n",
            "                  \"COLLEGE NAME\": \"Adithya Institute of Technology\",\n",
            "                  \"GRADUATION YEAR\": \"2012\",\n",
            "                  \"SKILLS\": \"Languages: Core Java, Go Lang, Data Structures & Algorithms, Oracle PL-SQL programming, Sales Force with APEX. Tools: RADTool, Jdeveloper, NetBeans, Eclipse, SQL developer, PL/SQL Developer, WinSCP, Putty Web Technologies: JavaScript, XML, HTML, Webservice  Operating Systems: Linux, Windows Version control system SVN & Git-Hub Databases: Oracle Middleware: Web logic, OC4J Product FLEXCUBE: Oracle FLEXCUBE Versions 10.x, 11.x and 12.x\"\n",
            "}\n"
          ]
        }
      ]
    },
    {
      "cell_type": "code",
      "source": [
        "with open(\"json_object.json\", \"w\") as outfile:\n",
        "    json.dump(dic, outfile)"
      ],
      "metadata": {
        "id": "_wNw95xq8asn"
      },
      "execution_count": null,
      "outputs": []
    },
    {
      "cell_type": "code",
      "source": [
        "res = nlp(text)\n",
        "for i in res.ents:\n",
        "  #d.append([i.label_.upper()]) = d[i.text]\n",
        "  print(f'{i.label_.upper():{30}}- {i.text}')\n",
        "  li.append(i.label_.upper())\n",
        "  #d.add({i.label_.upper()})\n",
        "  lii.append(i.text)"
      ],
      "metadata": {
        "colab": {
          "base_uri": "https://localhost:8080/"
        },
        "id": "fLtHbx1U8lGl",
        "outputId": "47ca44f8-06a9-4c7a-84f3-c08fdfba9087"
      },
      "execution_count": null,
      "outputs": [
        {
          "output_type": "stream",
          "name": "stdout",
          "text": [
            "LOCATION                      - Delhi\n",
            "COMPANIES WORKED AT           - Microsoft\n",
            "COMPANIES WORKED AT           - Microsoft\n",
            "COMPANIES WORKED AT           - Microsoft\n",
            "COMPANIES WORKED AT           - Microsoft\n",
            "COMPANIES WORKED AT           - Microsoft\n",
            "COMPANIES WORKED AT           - Microsoft\n",
            "COMPANIES WORKED AT           - Microsoft\n",
            "COMPANIES WORKED AT           - Microsoft\n",
            "COLLEGE NAME                  - Indian Institute of Technology\n"
          ]
        }
      ]
    },
    {
      "cell_type": "code",
      "source": [
        "text"
      ],
      "metadata": {
        "colab": {
          "base_uri": "https://localhost:8080/",
          "height": 140
        },
        "id": "xIK-XnAC_NYH",
        "outputId": "6ddb644e-3005-4a7a-edeb-6fc281865e0b"
      },
      "execution_count": null,
      "outputs": [
        {
          "output_type": "execute_result",
          "data": {
            "application/vnd.google.colaboratory.intrinsic+json": {
              "type": "string"
            },
            "text/plain": [
              "' Alice Clark \\nAI / Machine Learning \\n \\nDelhi, India Email me on Indeed \\n• \\n20+ years of experience in data handling, design, and development \\n• \\nData Warehouse: Data analysis, star/snow flake scema data modelling and design specific to \\ndata warehousing and business intelligence \\n• \\nDatabase: Experience in database designing, scalability, back-up and recovery, writing and \\noptimizing SQL code and Stored Procedures, creating functions, views, triggers and indexes. \\nCloud platform: Worked on Microsoft Azure cloud services like Document DB, SQL Azure, \\nStream Analytics, Event hub, Power BI, Web Job, Web App, Power BI, Azure data lake \\nanalytics(U-SQL) \\nWilling to relocate anywhere \\n \\nWORK EXPERIENCE \\nSoftware Engineer \\nMicrosoft – Bangalore, Karnataka \\nJanuary 2000 to Present \\n1. Microsoft Rewards Live dashboards: \\nDescription: - Microsoft rewards is loyalty program that rewards Users for browsing and shopping \\nonline. Microsoft Rewards members can earn points when searching with Bing, browsing with \\nMicrosoft Edge and making purchases at the Xbox Store, the Windows Store and the Microsoft \\nStore. Plus, user can pick up bonus points for taking daily quizzes and tours on the Microsoft \\nrewards website. Rewards live dashboards gives a live picture of usage world-wide and by \\nmarkets like US, Canada, Australia, new user registration count, top/bottom performing rewards \\noffers, orders stats and weekly trends of user activities, orders and new user registrations. the \\nPBI tiles gets refreshed in different frequencies starting from 5 seconds to 30 minutes. \\nTechnology/Tools used \\n \\nEDUCATION \\nIndian Institute of Technology – Mumbai \\n2001 \\n \\nSKILLS \\nMachine Learning, Natural Language Processing, and Big Data Handling \\n \\nADDITIONAL INFORMATION \\nProfessional Skills \\n• Excellent analytical, problem solving, communication, knowledge transfer and interpersonal \\nskills with ability to interact with individuals at all the levels \\n• Quick learner and maintains cordial relationship with project manager and team members and \\ngood performer both in team and independent job environments \\n• Positive attitude towards superiors &amp; peers \\n• Supervised junior developers throughout project lifecycle and provided technical assistance \\n'"
            ]
          },
          "metadata": {},
          "execution_count": 118
        }
      ]
    },
    {
      "cell_type": "code",
      "source": [
        "tx = \" \".join(text.split('\\n'))"
      ],
      "metadata": {
        "id": "TYYtdmyd_rMh"
      },
      "execution_count": null,
      "outputs": []
    },
    {
      "cell_type": "code",
      "source": [
        "tx"
      ],
      "metadata": {
        "colab": {
          "base_uri": "https://localhost:8080/",
          "height": 140
        },
        "id": "NCLMH6-B_xbu",
        "outputId": "62989ae6-2191-4915-ea30-ad29a3431a15"
      },
      "execution_count": null,
      "outputs": [
        {
          "output_type": "execute_result",
          "data": {
            "application/vnd.google.colaboratory.intrinsic+json": {
              "type": "string"
            },
            "text/plain": [
              "' Alice Clark  AI / Machine Learning    Delhi, India Email me on Indeed  •  20+ years of experience in data handling, design, and development  •  Data Warehouse: Data analysis, star/snow flake scema data modelling and design specific to  data warehousing and business intelligence  •  Database: Experience in database designing, scalability, back-up and recovery, writing and  optimizing SQL code and Stored Procedures, creating functions, views, triggers and indexes.  Cloud platform: Worked on Microsoft Azure cloud services like Document DB, SQL Azure,  Stream Analytics, Event hub, Power BI, Web Job, Web App, Power BI, Azure data lake  analytics(U-SQL)  Willing to relocate anywhere    WORK EXPERIENCE  Software Engineer  Microsoft – Bangalore, Karnataka  January 2000 to Present  1. Microsoft Rewards Live dashboards:  Description: - Microsoft rewards is loyalty program that rewards Users for browsing and shopping  online. Microsoft Rewards members can earn points when searching with Bing, browsing with  Microsoft Edge and making purchases at the Xbox Store, the Windows Store and the Microsoft  Store. Plus, user can pick up bonus points for taking daily quizzes and tours on the Microsoft  rewards website. Rewards live dashboards gives a live picture of usage world-wide and by  markets like US, Canada, Australia, new user registration count, top/bottom performing rewards  offers, orders stats and weekly trends of user activities, orders and new user registrations. the  PBI tiles gets refreshed in different frequencies starting from 5 seconds to 30 minutes.  Technology/Tools used    EDUCATION  Indian Institute of Technology – Mumbai  2001    SKILLS  Machine Learning, Natural Language Processing, and Big Data Handling    ADDITIONAL INFORMATION  Professional Skills  • Excellent analytical, problem solving, communication, knowledge transfer and interpersonal  skills with ability to interact with individuals at all the levels  • Quick learner and maintains cordial relationship with project manager and team members and  good performer both in team and independent job environments  • Positive attitude towards superiors &amp; peers  • Supervised junior developers throughout project lifecycle and provided technical assistance  '"
            ]
          },
          "metadata": {},
          "execution_count": 123
        }
      ]
    },
    {
      "cell_type": "code",
      "source": [
        "res = nlp(tx)\n",
        "for i in res.ents:\n",
        "  #d.append([i.label_.upper()]) = d[i.text]\n",
        "  print(f'{(i.label_.upper()):{30}}- {(i.text)}')\n",
        "  li.append(i.label_.upper())\n",
        "  #d.add({i.label_.upper()})\n",
        "  lii.append(i.text)"
      ],
      "metadata": {
        "colab": {
          "base_uri": "https://localhost:8080/"
        },
        "id": "pQlWjzPPAWKJ",
        "outputId": "eb90d5eb-13fd-4a0d-b66f-8d9709a3bed6"
      },
      "execution_count": null,
      "outputs": [
        {
          "output_type": "stream",
          "name": "stdout",
          "text": [
            "LOCATION                      - Delhi\n",
            "COMPANIES WORKED AT           - Microsoft\n",
            "DESIGNATION                   - Software Engineer\n",
            "COMPANIES WORKED AT           - Microsoft\n",
            "COMPANIES WORKED AT           - Microsoft\n",
            "COMPANIES WORKED AT           - Microsoft\n",
            "COMPANIES WORKED AT           - Microsoft\n",
            "COMPANIES WORKED AT           - Microsoft\n",
            "COMPANIES WORKED AT           - Microsoft\n",
            "COLLEGE NAME                  - Indian Institute of Technology\n",
            "SKILLS                        - Machine Learning, Natural Language Processing, and Big Data Handling    ADDITIONAL INFORMATION  Professional Skills\n"
          ]
        }
      ]
    },
    {
      "cell_type": "code",
      "source": [
        ""
      ],
      "metadata": {
        "id": "yRIGx5roAeTi"
      },
      "execution_count": null,
      "outputs": []
    }
  ]
}